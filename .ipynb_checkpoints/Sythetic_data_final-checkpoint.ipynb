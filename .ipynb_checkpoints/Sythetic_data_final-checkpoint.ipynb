{
 "cells": [
  {
   "cell_type": "code",
   "execution_count": 13,
   "id": "1349b855-0984-4b70-bab4-1d6e7f4c2cfa",
   "metadata": {},
   "outputs": [],
   "source": [
    "import numpy as np\n",
    "import pandas as pd\n",
    "from datetime import timedelta, datetime"
   ]
  },
  {
   "cell_type": "code",
   "execution_count": 14,
   "id": "722eb894-afb0-42b1-995b-a898f8176dc4",
   "metadata": {},
   "outputs": [],
   "source": [
    "#Parameters\n",
    "num_days = 547 #18 months approximately\n",
    "start_date = datetime(2022,1,1)\n",
    "date_range = [start_date + timedelta(days = x) for x in range(num_days)]"
   ]
  },
  {
   "cell_type": "code",
   "execution_count": 15,
   "id": "a1cd3042-c437-4815-8cdd-9c068278ee2d",
   "metadata": {},
   "outputs": [],
   "source": [
    "# Generate sythetic data\n",
    "np.random.seed(42)\n",
    "\n",
    "data = {\n",
    "    \"Date\" : date_range,\n",
    "    \"Effective_Running_Time\" : np.random.uniform(6, 10, num_days), # Effective running time in hours\n",
    "    \"General_Running_Time\" : np.random.uniform(8, 12, num_days), # General running time in hours\n",
    "    \"Waste_Packages\" : np.round(np.random.uniform(50, 200, num_days)), # Waste packages\n",
    "    \"Good_Packages\" : np.round(np.random.uniform(800, 1000, num_days)), # Good packages\n",
    "    \"Nominal_Speed\" : np.round(np.random.uniform(1000, 1200, num_days)), # Nominal speed (packages per hour)\n",
    "    \"Actual_Speed\" : np.round(np.random.uniform(800, 1100, num_days)), # Actual speed (packages per hour)\n",
    "    \"Ancillary_Time\" : np.random.uniform(0.5, 1.5, num_days), # Ancillary time in hours\n",
    "    \"Internal_owntime\" : np.random.uniform(0.1,0.5, num_days), # Internal downtime in hours\n",
    "    \"External_Downtime\" : np.random.uniform(0.1, 0.3, num_days), # External downtime in hours\n",
    "}"
   ]
  },
  {
   "cell_type": "code",
   "execution_count": 16,
   "id": "b5e3c806-97e1-467c-8191-dafa4496b551",
   "metadata": {},
   "outputs": [],
   "source": [
    "#Create datadframe\n",
    "\n",
    "df = pd.DataFrame(data)"
   ]
  },
  {
   "cell_type": "code",
   "execution_count": 17,
   "id": "7148b6b8-35ed-4997-999e-07c2fca4e94b",
   "metadata": {},
   "outputs": [],
   "source": [
    "df[\"Effective_Running_Time\"] = df.apply(lambda row: min(row[\"Effective_Running_Time\"], row[\"General_Running_Time\"]), axis = 1)\n",
    "df[\"Actual_Speed\"] = df.apply(lambda row: min(row[\"Actual_Speed\"], row[\"Nominal_Speed\"]), axis = 1)"
   ]
  },
  {
   "cell_type": "code",
   "execution_count": 18,
   "id": "64848fb6-8d25-4225-9a73-d1ee05d66e43",
   "metadata": {},
   "outputs": [
    {
     "name": "stdout",
     "output_type": "stream",
     "text": [
      "        Date  Effective_Running_Time  General_Running_Time  Waste_Packages  \\\n",
      "0 2022-01-01                7.498160             10.686293            85.0   \n",
      "1 2022-01-02                9.802857             10.081231            76.0   \n",
      "2 2022-01-03                8.927976             11.089274            83.0   \n",
      "3 2022-01-04                8.394634             10.080654            78.0   \n",
      "4 2022-01-05                6.624075             11.408726           167.0   \n",
      "\n",
      "   Good_Packages  Nominal_Speed  Actual_Speed  Ancillary_Time  \\\n",
      "0          968.0         1158.0        1036.0        1.354974   \n",
      "1          904.0         1133.0        1097.0        1.382560   \n",
      "2          925.0         1052.0         963.0        0.966310   \n",
      "3          818.0         1181.0        1089.0        0.575700   \n",
      "4          951.0         1134.0         823.0        0.887826   \n",
      "\n",
      "   Internal_owntime  External_Downtime  \n",
      "0          0.188495           0.176557  \n",
      "1          0.252397           0.267829  \n",
      "2          0.423362           0.129065  \n",
      "3          0.429449           0.201139  \n",
      "4          0.253844           0.112408  \n"
     ]
    }
   ],
   "source": [
    "print(df.head())"
   ]
  },
  {
   "cell_type": "code",
   "execution_count": 21,
   "id": "b21862f0-c759-4321-8117-3be1342e2ad4",
   "metadata": {},
   "outputs": [],
   "source": [
    "df.to_csv('synthetic_data_final.csv', index=False)"
   ]
  },
  {
   "cell_type": "code",
   "execution_count": null,
   "id": "f2db4397-1490-4ed2-a10b-c152eb5f523b",
   "metadata": {},
   "outputs": [],
   "source": []
  }
 ],
 "metadata": {
  "kernelspec": {
   "display_name": "Python 3 (ipykernel)",
   "language": "python",
   "name": "python3"
  },
  "language_info": {
   "codemirror_mode": {
    "name": "ipython",
    "version": 3
   },
   "file_extension": ".py",
   "mimetype": "text/x-python",
   "name": "python",
   "nbconvert_exporter": "python",
   "pygments_lexer": "ipython3",
   "version": "3.11.5"
  }
 },
 "nbformat": 4,
 "nbformat_minor": 5
}
